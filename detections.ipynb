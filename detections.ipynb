{
 "cells": [
  {
   "cell_type": "code",
   "execution_count": null,
   "metadata": {},
   "outputs": [],
   "source": [
    "import obspy\n",
    "import numpy as np\n",
    "import pandas as pd\n",
    "import matplotlib.pyplot as plt\n",
    "import glob\n",
    "import png\n",
    "import matplotlib.pyplot as plt\n",
    "import numpy as np    \n",
    "from tqdm import tqdm\n",
    "wave_data=glob.glob('/Users/Geopersian/Documents/KB/output_extract/*.mseed')\n",
    "st = obspy.Stream()\n",
    "c = 0\n",
    "for add in tqdm(wave_data):\n",
    "    st = obspy.read(add)\n",
    "    data = st.spectrogram(samp_rate = 65,,show=False,outfile=f'C:\\\\Users\\\\Geopersian\\\\Documents\\\\earth_quake\\\\positive\\\\plot{c}.png')\n",
    "    c += 1"
   ]
  },
  {
   "cell_type": "code",
   "execution_count": null,
   "metadata": {},
   "outputs": [],
   "source": [
    "import obspy\n",
    "import numpy as np\n",
    "import pandas as pd\n",
    "import matplotlib.pyplot as plt\n",
    "import glob\n",
    "import png\n",
    "import matplotlib.pyplot as plt\n",
    "import numpy as np    \n",
    "from tqdm import tqdm\n",
    "wave_data=glob.glob('/Users/Geopersian/Documents/KB/output_extract_noeartquake/*NSN___012')\n",
    "st = obspy.Stream()\n",
    "c = 0\n",
    "for add in tqdm(wave_data):\n",
    "    st = obspy.read(add)\n",
    "    data = st.spectrogram(samp_rate = 65,outfile=f'C:\\\\Users\\\\Geopersian\\\\Documents\\\\earth_quake\\\\negative\\\\plot{c}.png')\n",
    "    c += 1"
   ]
  }
 ],
 "metadata": {
  "kernelspec": {
   "display_name": "Python 3",
   "language": "python",
   "name": "python3"
  },
  "language_info": {
   "codemirror_mode": {
    "name": "ipython",
    "version": 3
   },
   "file_extension": ".py",
   "mimetype": "text/x-python",
   "name": "python",
   "nbconvert_exporter": "python",
   "pygments_lexer": "ipython3",
   "version": "3.7.3"
  }
 },
 "nbformat": 4,
 "nbformat_minor": 2
}
